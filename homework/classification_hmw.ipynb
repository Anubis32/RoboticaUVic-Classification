{
 "metadata": {
  "name": "",
  "signature": "sha256:e0a32451a59dc187a994ce39fc290508c4dd62f32e87b624352fe1e69dea0672"
 },
 "nbformat": 3,
 "nbformat_minor": 0,
 "worksheets": [
  {
   "cells": [
    {
     "cell_type": "code",
     "collapsed": false,
     "input": [
      "#IMPORT LIBRARIES\n",
      "\n",
      "import numpy as np\n",
      "import pylab as pl\n",
      "import scipy.spatial.distance as dist\n",
      "import matplotlib.pyplot as plt\n",
      "\n",
      "from collections import Counter\n",
      "from sklearn.metrics import accuracy_score\n",
      "from sklearn.metrics import precision_recall_curve\n",
      "from sklearn.linear_model import LogisticRegression\n",
      "from sklearn.svm import LinearSVC, SVC\n",
      "from sklearn.grid_search import GridSearchCV\n",
      "from tabulate import tabulate    "
     ],
     "language": "python",
     "metadata": {},
     "outputs": [],
     "prompt_number": 163
    },
    {
     "cell_type": "markdown",
     "metadata": {},
     "source": [
      "K-Nearest Neighbors\n",
      "\n",
      "Q1 Implement a function that does kNN classification, and use it to classify the Iris dataset. Once you get a near-perfect classification there, use your function in the 3DClothing dataset. Plot the accuracy for all odd values of k from 1 to 9.\n",
      "\n",
      "   Hint: the cdist function in SciPy may be helpful."
     ]
    },
    {
     "cell_type": "code",
     "collapsed": false,
     "input": [
      "#Open the file iris.data and separate the data into two matrices, \n",
      "#the first three columns are numerical data and the last column our levels as strings.\n",
      "data = np.array([map(float, num_data.split(',')[:-1]) for num_data in open('iris.data') if num_data.strip()!=''])\n",
      "labels = np.array([lab_data.split(',')[-1].strip() for lab_data in open('iris.data') if lab_data.strip()!=''])\n",
      "\n",
      "#Load, store and convert training and test data into two separate matrices\n",
      "index_train = np.loadtxt('iris_idx_train.txt')\n",
      "index_train = index_train.astype(int)\n",
      "#-------------------------------------------        \n",
      "index_test = np.loadtxt('iris_idx_test.txt')\n",
      "index_test = index_test.astype(int)\n",
      "\n",
      "# We order training and test data with their corresponding labels\n",
      "train_data = data[index_train,:]\n",
      "test_data = data[index_test,:]\n",
      "#------------------------------------------- \n",
      "train_labels = labels[index_train]\n",
      "test_labels = labels[index_test]\n"
     ],
     "language": "python",
     "metadata": {},
     "outputs": [],
     "prompt_number": 2
    },
    {
     "cell_type": "code",
     "collapsed": false,
     "input": [
      "#We define a function for the K-NN classifier with a range of values \"K\" and plot the results\n",
      "def kNN(train_data, test_data, train_labels, test_labels):\n",
      "    for k in range(1,9):\n",
      "        dis = dist.cdist(train_data, test_data)\n",
      "        min_k = np.argsort(dis.T,1)[:,1:k+1]\n",
      "        min_labels = train_labels[min_k]\n",
      "        acc = accuracy_score(test_labels, [Counter(x).most_common()[0][0] for x in min_labels] )\n",
      "        print 'Accuracy ',k,':', acc\n",
      "\n",
      "kNN (train_data, test_data, train_labels, test_labels) "
     ],
     "language": "python",
     "metadata": {},
     "outputs": [
      {
       "output_type": "stream",
       "stream": "stdout",
       "text": [
        "Accuracy  1 : 0.94\n",
        "Accuracy  2 : 0.94\n",
        "Accuracy  3 : 0.94\n",
        "Accuracy  4 : 0.94\n",
        "Accuracy  5 : 0.96\n",
        "Accuracy  6 : 0.96\n",
        "Accuracy  7 : 0.96\n",
        "Accuracy  8 : 0.94\n"
       ]
      }
     ],
     "prompt_number": 3
    },
    {
     "cell_type": "markdown",
     "metadata": {},
     "source": [
      "Logistic Regression\n",
      "\n",
      "We will use Scikit Learn to train Logistic Regression classifiers for the 3DClothing data. You may want to take a look at the documentation and examples.\n",
      "\n",
      "Q2 First we will focus on a two-class problem. Use slicing to get a new training and testing set that only contains the instances corresponding to shirt and jeans (remember to also create new label variables!). Then, train a Logistic Regression classifier, adjusting the C parameter with cross-validation. This time you can chose to use the cross-validation functions provided by sklearn. Plot the training and validation accuracy as C is incresed, and print the test accuracy for the selected model."
     ]
    },
    {
     "cell_type": "code",
     "collapsed": false,
     "input": [
      "#Load 3dclothing train and test data\n",
      "train_data = np.load('3dclothing_train.npy')\n",
      "test_data = np.load('3dclothing_test.npy')\n",
      "#-----------------------------------\n",
      "train_label_3d = np.array([x.strip() for x in open('3dclothing_labels_train.txt')])\n",
      "test_label_3d = np.array([x.strip() for x in open('3dclothing_labels_test.txt')])\n",
      "#-----------------------------------\n",
      "train_label = []\n",
      "for i in range(0,train_label_3d.size):\n",
      "    if ((train_label_3d[i] == \"shirt\") or (train_label_3d[i] == \"jeans\")):\n",
      "        train_label.append(i)\n",
      "train_data = train_data[train_label,:]\n",
      "train_label_3d = train_label_3d[train_label]\n",
      "#-----------------------------------\n",
      "test_label = []\n",
      "for i in range(0,test_label_3d.size):\n",
      "    if ((test_label_3d[i] == \"shirt\") or (test_label_3d[i] == \"jeans\")):\n",
      "        test_label.append(i)\n",
      "test_data = test_data[test_label,:]\n",
      "test_label_3d = test_label_3d[test_label]\n",
      "#-----------------------------------\n",
      "X = list(range(1, 16))\n",
      "Y = list(range(1, 16))\n",
      "o = 0\n",
      "#-----------------------------------\n",
      "for i in xrange (-7,8):    \n",
      "    LogReg = LogisticRegression(C=10**i)\n",
      "    X[o]=i\n",
      "    LogReg.fit(train_data, train_label_3d)\n",
      "    Y[o] = LogReg.score(test_data, test_label_3d)\n",
      "    print 'Accuracy:',round(Y[o],2),'for', 'C=10^',i \n",
      "    o+=1\n",
      "#-----------------------------------\n",
      "plt.suptitle(\"Logistic Regression\")     \n",
      "plt.xlabel(\"C=10^\")\n",
      "plt.ylabel(\"Accuracy\") \n",
      "plt.annotate('Max. C 10^-4', xy=(-4, 0.9), xytext=(-1, 1.2),\n",
      "            arrowprops=dict(facecolor='black', shrink=0.05))\n",
      "plt.ylim(0.5,1.5)\n",
      "plt.grid(True)\n",
      "plt.plot(X[:14],Y[:14],'bo-',lw=2)\n",
      "plt.savefig(\"q2.png\")\n",
      "plt.show()"
     ],
     "language": "python",
     "metadata": {},
     "outputs": [
      {
       "output_type": "stream",
       "stream": "stdout",
       "text": [
        "Accuracy: 0.61 for C=10^ -7\n",
        "Accuracy: 0.69 for C=10^ -6\n",
        "Accuracy: 0.77 for C=10^ -5\n",
        "Accuracy: 0.88 for C=10^ -4\n",
        "Accuracy:"
       ]
      },
      {
       "output_type": "stream",
       "stream": "stdout",
       "text": [
        " 0.88 for C=10^ -3\n",
        "Accuracy: 0.86 for C=10^ -2\n",
        "Accuracy:"
       ]
      },
      {
       "output_type": "stream",
       "stream": "stdout",
       "text": [
        " 0.82 for C=10^ -1\n",
        "Accuracy: 0.83"
       ]
      },
      {
       "output_type": "stream",
       "stream": "stdout",
       "text": [
        " for C=10^ 0\n",
        "Accuracy: 0.84 for C=10^ 1\n",
        "Accuracy:"
       ]
      },
      {
       "output_type": "stream",
       "stream": "stdout",
       "text": [
        " 0.83 for C=10^ 2\n",
        "Accuracy: 0.83 for C=10^ 3\n",
        "Accuracy:"
       ]
      },
      {
       "output_type": "stream",
       "stream": "stdout",
       "text": [
        " 0.83 for C=10^ 4\n",
        "Accuracy: 0.83 for C=10^ 5\n",
        "Accuracy:"
       ]
      },
      {
       "output_type": "stream",
       "stream": "stdout",
       "text": [
        " 0.83 for C=10^ 6\n",
        "Accuracy: 0.83 for C=10^ 7\n"
       ]
      },
      {
       "metadata": {},
       "output_type": "display_data",
       "png": "[encoded data removed]",
       "text": [
        "<matplotlib.figure.Figure at 0x7fe7d4799310>"
       ]
      }
     ],
     "prompt_number": 35
    },
    {
     "cell_type": "markdown",
     "metadata": {},
     "source": [
      "Q3 Now, train a multi-class Logistic Regression classifier with the complete training set. Again, plot the training and validation accuracy as C increases, and print the final test accuracy.\n",
      "\n",
      "Warning: the training time can be a bit long for large Cs. If the training time gets too long, try reducing the max C value to 10^3."
     ]
    },
    {
     "cell_type": "code",
     "collapsed": false,
     "input": [
      "#Load 3dclothing train and test data\n",
      "train_data = np.load('3dclothing_train.npy')\n",
      "test_data = np.load('3dclothing_test.npy')\n",
      "#-----------------------------------\n",
      "train_label_3d = np.array([x.strip() for x in open('3dclothing_labels_train.txt')])\n",
      "test_label_3d = np.array([x.strip() for x in open('3dclothing_labels_test.txt')])\n",
      "#-----------------------------------\n",
      "#-----------------------------------\n",
      "X = list(range(1, 8))\n",
      "Y = list(range(1, 8))\n",
      "o = 0\n",
      "#-----------------------------------\n",
      "for i in xrange (-3,4):    \n",
      "    LogReg = LogisticRegression(C=10**i)\n",
      "    X[o]=i\n",
      "    LogReg.fit(train_data, train_label_3d)\n",
      "    Y[o] = LogReg.score(test_data, test_label_3d)\n",
      "    print 'Accuracy:',round(Y[o],3),'for', 'C=10^',i \n",
      "    o+=1\n",
      "#-----------------------------------\n",
      "plt.suptitle(\"Multi-class Logistic Regression\")     \n",
      "plt.xlabel(\"C=10^\")\n",
      "plt.ylabel(\"Accuracy\") \n",
      "plt.annotate('Max. C 10^-1', xy=(-1, 0.62), xytext=(-0.5, 0.65),\n",
      "            arrowprops=dict(facecolor='black', shrink=0.05))\n",
      "plt.ylim(0.6,0.7)\n",
      "plt.grid(True)\n",
      "plt.plot(X[:5],Y[:5],'bo-',lw=2)\n",
      "plt.savefig(\"q3.png\")\n",
      "plt.show()"
     ],
     "language": "python",
     "metadata": {},
     "outputs": [
      {
       "output_type": "stream",
       "stream": "stdout",
       "text": [
        "Accuracy: 0.671 for C=10^ -3\n",
        "Accuracy:"
       ]
      },
      {
       "output_type": "stream",
       "stream": "stdout",
       "text": [
        " 0.638 for C=10^ -2\n",
        "Accuracy:"
       ]
      },
      {
       "output_type": "stream",
       "stream": "stdout",
       "text": [
        " 0.618 for C=10^ -1\n",
        "Accuracy:"
       ]
      },
      {
       "output_type": "stream",
       "stream": "stdout",
       "text": [
        " 0.623 for C=10^ 0\n",
        "Accuracy:"
       ]
      },
      {
       "output_type": "stream",
       "stream": "stdout",
       "text": [
        " 0.618 for C=10^ 1\n",
        "Accuracy:"
       ]
      },
      {
       "output_type": "stream",
       "stream": "stdout",
       "text": [
        " 0.628 for C=10^ 2\n",
        "Accuracy:"
       ]
      },
      {
       "output_type": "stream",
       "stream": "stdout",
       "text": [
        " 0.628 for C=10^ 3\n"
       ]
      },
      {
       "metadata": {},
       "output_type": "display_data",
       "png": "[encoded data removed]",
       "text": [
        "<matplotlib.figure.Figure at 0x7fe7d4820fd0>"
       ]
      }
     ],
     "prompt_number": 194
    },
    {
     "cell_type": "markdown",
     "metadata": {},
     "source": [
      "Q4 Sometimes we want to re-use a trained classified in another system, or with another programming language. Other times we just want to save it to disk for later usage. Given a trained linear classifier object, explain what information should we be saving in order to be able to do so. Next, inspect the \"shirts vs jeans\" logistic regression classifier object we have trained in Question 2 (re-train it if necessary) and identify which variables contain said information. Finally, write the code necessary to use these variables to classify new test samples.\n",
      "\n",
      "Hint: In Python, you can see the methods and variables of an object with dir(object).\n",
      "Hint: Variables that start and end with two underscores, such as \"__dir__\" are internal Python object methods, not relevant for our problem.\n",
      "Hint: In sklearn, variables tend to have a underscore at the end, while functions have no underscores at the beginning/ending of the name. Remember that the equation for Logistic Regression is:\n",
      "logreg"
     ]
    },
    {
     "cell_type": "code",
     "collapsed": false,
     "input": [
      "#Load 3dclothing train and test data\n",
      "train_data = np.load('3dclothing_train.npy')\n",
      "test_data = np.load('3dclothing_test.npy')\n",
      "#-----------------------------------\n",
      "train_label_3d = np.array([x.strip() for x in open('3dclothing_labels_train.txt')])\n",
      "test_label_3d = np.array([x.strip() for x in open('3dclothing_labels_test.txt')])\n",
      "#-----------------------------------\n",
      "train_label = []\n",
      "for i in range(0,train_label_3d.size):\n",
      "    if ((train_label_3d[i] == \"shirt\") or (train_label_3d[i] == \"jeans\")):\n",
      "        train_label.append(i)\n",
      "train_data = train_data[train_label,:]\n",
      "train_label_3d = train_label_3d[train_label]\n",
      "#-----------------------------------\n",
      "test_label = []\n",
      "for i in range(0,test_label_3d.size):\n",
      "    if ((test_label_3d[i] == \"shirt\") or (test_label_3d[i] == \"jeans\")):\n",
      "        test_label.append(i)\n",
      "test_data = test_data[test_label,:]\n",
      "test_label_3d = test_label_3d[test_label]\n",
      "#-----------------------------------\n",
      "for i in xrange (-7,8):    \n",
      "    LogReg = LogisticRegression(C=10**i)\n",
      "    LogReg.fit(train_data, train_label_3d)\n",
      "    c = LogReg.score(test_data, test_label_3d)\n",
      "    bias = LogReg.intercept_\n",
      "    theta = LogReg.coef_\n",
      "    accuracy = 1/(1+(np.exp(-np.dot(test_data, theta.T)-bias)))\n",
      "\n",
      "N = input('How many decimals do you want to see in accuracy? ')\n",
      "for i in xrange (0,accuracy.size):    \n",
      "\n",
      "    acc_float=float(accuracy[i])\n",
      "    \n",
      "    print 'New accuracy is', round(acc_float,N)"
     ],
     "language": "python",
     "metadata": {},
     "outputs": [
      {
       "name": "stdout",
       "output_type": "stream",
       "stream": "stdout",
       "text": [
        "How many decimals do you want to see in accuracy? 10\n"
       ]
      },
      {
       "output_type": "stream",
       "stream": "stdout",
       "text": [
        "New accuracy is 1.0\n",
        "New accuracy is 1.0\n",
        "New accuracy is 7.948e-07\n",
        "New accuracy is 1.0\n",
        "New accuracy is 0.0039300224\n",
        "New accuracy is 2e-10\n",
        "New accuracy is 0.0\n",
        "New accuracy is 0.9998607291\n",
        "New accuracy is 1.0\n",
        "New accuracy is 0.0004042884\n",
        "New accuracy is 1.0\n",
        "New accuracy is 0.9999999995\n",
        "New accuracy is 0.9999610863\n",
        "New accuracy is 0.9999999417\n",
        "New accuracy is 1.0\n",
        "New accuracy is 1.4861e-06\n",
        "New accuracy is 3.5858e-06\n",
        "New accuracy is 1.0\n",
        "New accuracy is 1.0\n",
        "New accuracy is 0.9999999999\n",
        "New accuracy is 1.0\n",
        "New accuracy is 2.4268e-06\n",
        "New accuracy is 3.9e-09\n",
        "New accuracy is 1.0\n",
        "New accuracy is 1.0\n",
        "New accuracy is 1.0\n",
        "New accuracy is 3e-10\n",
        "New accuracy is 0.9999907915\n",
        "New accuracy is 0.9598212693\n",
        "New accuracy is 0.3504742513\n",
        "New accuracy is 0.0402787981\n",
        "New accuracy is 0.9999999935\n",
        "New accuracy is 1.0\n",
        "New accuracy is 0.0286757359\n",
        "New accuracy is 0.9635931821\n",
        "New accuracy is 1.0\n",
        "New accuracy is 0.3169347728\n",
        "New accuracy is 1.0\n",
        "New accuracy is 1.0\n",
        "New accuracy is 1.0\n",
        "New accuracy is 0.0\n",
        "New accuracy is 1.0\n",
        "New accuracy is 0.0\n",
        "New accuracy is 0.0057331649\n",
        "New accuracy is 1.0\n",
        "New accuracy is 0.9729618714\n",
        "New accuracy is 0.0\n",
        "New accuracy is 0.074424536\n",
        "New accuracy is 0.9999999987\n",
        "New accuracy is 2e-10\n",
        "New accuracy is 0.9955790241\n",
        "New accuracy is 1.0\n",
        "New accuracy is 0.0\n",
        "New accuracy is 0.9110781338\n",
        "New accuracy is 8.5e-09\n",
        "New accuracy is 1.0\n",
        "New accuracy is 0.9999998951\n",
        "New accuracy is 1.0\n",
        "New accuracy is 0.0\n",
        "New accuracy is 0.9999999853\n",
        "New accuracy is 0.1059264923\n",
        "New accuracy is 1.0\n",
        "New accuracy is 0.0019619063\n",
        "New accuracy is 0.9999923114\n",
        "New accuracy is 1.0\n",
        "New accuracy is 1.0\n",
        "New accuracy is 1.0\n",
        "New accuracy is 6.1688e-05\n",
        "New accuracy is 0.9999999878\n",
        "New accuracy is 1.0\n",
        "New accuracy is 0.999963869\n",
        "New accuracy is 0.9999889246\n",
        "New accuracy is 1.0\n",
        "New accuracy is 0.005562309\n",
        "New accuracy is 1.0\n",
        "New accuracy is 0.9999768023\n",
        "New accuracy is 1.0\n"
       ]
      }
     ],
     "prompt_number": 91
    },
    {
     "cell_type": "markdown",
     "metadata": {},
     "source": [
      "Support Vector Machines\n",
      "\n",
      "Q5 For this exercise we will be using the synthetic dataset jain. This dataset has only two dimensions, and therefore can be easily visualized. Train a linear Support Vector Machine (sklearn.svm.LinearSVC) and a SVM with a Gaussian Radial Basis Function Kernel (sklearn.svm.SVC) using the jain data (randomly split it 50-50 for train/test). Then, use the following Python function to visualize the decision boundaries of the two classifiers. Describe what you see."
     ]
    },
    {
     "cell_type": "code",
     "collapsed": false,
     "input": [
      "#Adapted from: Gael Varoquaux, Andreas Muller; \"Classifier comparison\"  \n",
      "#http://scikit-learn.org/stable/auto_examples/classification/plot_classifier_comparison.html  \n",
      "\n",
      "def paint_decision_functions(data, labels, clf):  \n",
      "    from matplotlib.colors import ListedColormap  \n",
      "    import pylab  \n",
      "    cm = pylab.cm.RdBu  \n",
      "    cm_bright = ListedColormap(['#FF0000', '#0000FF'])  \n",
      "    x_min, x_max = data[:, 0].min() - .5, data[:, 0].max() + .5  \n",
      "    y_min, y_max = data[:, 1].min() - .5, data[:, 1].max() + .5  \n",
      "    xx, yy = np.meshgrid(np.arange(x_min, x_max, 0.1),  \n",
      "                         np.arange(y_min, y_max, 0.1))  \n",
      "    Z = clf.decision_function(np.c_[xx.ravel(), yy.ravel()])  \n",
      "    Z = Z.reshape(xx.shape)  \n",
      "    pylab.contourf(xx, yy, Z, cmap=cm, alpha=.8)  \n",
      "    pylab.scatter(data[:, 0], data[:, 1], c=labels, cmap=cm_bright)  \n",
      "    pylab.xlim(xx.min(), xx.max())  \n",
      "    pylab.ylim(yy.min(), yy.max())  \n",
      "    pylab.xticks(())  \n",
      "    pylab.yticks(())  \n",
      "    pylab.show()  "
     ],
     "language": "python",
     "metadata": {},
     "outputs": [],
     "prompt_number": 99
    },
    {
     "cell_type": "code",
     "collapsed": false,
     "input": [
      "#Load data and split columns\n",
      "jain_data = np.loadtxt('jain.txt')\n",
      "data = jain_data[:,:-1]\n",
      "label = jain_data[:,-1]\n",
      "half_size = len(jain_data)/2\n",
      "\n",
      "#Randomly permute a sequence, or return a permuted range.\n",
      "#If x is a multi-dimensional array, it is only shuffled along its first index.\n",
      "x = np.random.permutation(jain_data.shape[0])\n",
      "\n",
      "#----------------------------------\n",
      "train_data = data[x[:half_size],:]\n",
      "train_label = label[x[:half_size]]\n",
      "#----------------------------------\n",
      "test_data = data[x[:half_size],:]\n",
      "test_label = label[x[:half_size]]\n",
      "#----------------------------------\n",
      "\n",
      "# Linear SVM\n",
      "w = LinearSVC()\n",
      "w.fit(train_data, train_label)\n",
      "t = w.score(test_data, test_label)\n",
      "print 'Linear SVM score: ', t\n",
      "\n",
      "r = SVC()\n",
      "r.fit(train_data, train_label)\n",
      "z = r.score(test_data, test_label)\n",
      "print 'Linear SVM score with Grid Search: ', z \n",
      "\n",
      "paint_decision_functions(test_data, test_label, w)\n",
      "\n",
      "# Kernelized SVM\n",
      "clf = SVC(C=1)\n",
      "clf.fit(train_data, train_label)\n",
      "print 'RBF SVM score', clf.score(test_data, test_label)\n",
      "parameters = {'C':[10**i for i in range(-2, 2)], 'kernel':['linear', 'rbf']}\n",
      "clf = GridSearchCV(SVC(), parameters, verbose=False)\n",
      "clf.fit(train_data, train_label)\n",
      "print 'RBF SVM score with Grid Search', clf.score(test_data, test_label)\n",
      "\n",
      "paint_decision_functions(test_data, test_label, clf)\n",
      "\n",
      "print 'Kernelized SVM model is more ajusted than linear model, but both graphics' \n",
      "print 'shows that the indecision area is narrower in kernelized model.'\n",
      "print 'We can conclude that classification has been correctly in both models.'"
     ],
     "language": "python",
     "metadata": {},
     "outputs": [
      {
       "output_type": "stream",
       "stream": "stdout",
       "text": [
        "Linear SVM score:  0.956989247312\n",
        "Linear SVM score with Grid Search:  1.0\n"
       ]
      },
      {
       "metadata": {},
       "output_type": "display_data",
       "png": "[encoded data removed]",
       "text": [
        "<matplotlib.figure.Figure at 0x7fe7d41af7d0>"
       ]
      },
      {
       "output_type": "stream",
       "stream": "stdout",
       "text": [
        "RBF SVM score 1.0\n",
        "RBF SVM score with Grid Search"
       ]
      },
      {
       "output_type": "stream",
       "stream": "stdout",
       "text": [
        " 0.962365591398\n"
       ]
      },
      {
       "metadata": {},
       "output_type": "display_data",
       "png": "[encoded data removed]",
       "text": [
        "<matplotlib.figure.Figure at 0x7fe7d4080cd0>"
       ]
      },
      {
       "output_type": "stream",
       "stream": "stdout",
       "text": [
        "Kernelized SVM model is more ajusted than linear model, but both graphics\n",
        "shows that the indecision area is narrower in kernelized model.\n",
        "We can conclude that classification has been correctly in both models.\n"
       ]
      }
     ],
     "prompt_number": 192
    },
    {
     "cell_type": "markdown",
     "metadata": {},
     "source": [
      "Classifier Evaluation\n",
      "\n",
      "We have just finished developing the vision system of a robot waiter to work in a bar. Now we have to evaluate it.\n",
      "\n",
      "Q8 After developing a french fries image logistic regression classifier for our robot waiter, we want to know how good it is. We have run the image classifier in 150.000 images, of which 150 are positives. Load the probability of french fries computed by our classifier and the true labels, and compute:\n",
      "\n",
      "Accuracy and Error Rate (assume threshold is at 0.5)\n",
      "Balanced Error Rate (implies computing True Positive Rate, True Negative Rate)\n",
      "F1-score (implies computing also precision and recall)\n",
      "\n",
      "Hint: Since we will consider the whole dataset, there is no need to sort the values.\n",
      "Since being a bit slower is prefearable to our robot attacking a client wearing stripes, we are more concerned about precision than recall. Compute the f-beta score with beta=0.5\n",
      "\n",
      "Finally, plot the precision-recall curve for our classifier.\n",
      "\n",
      "Use the function precision_recall_curve found in sklearn.metrics."
     ]
    },
    {
     "cell_type": "code",
     "collapsed": false,
     "input": [
      "#Load data | (assume threshold is at 0.5) \n",
      "fries_labels = np.load('robot_waiter_fries_labels.npy')\n",
      "fries_scores = np.load('robot_waiter_fries_scores.npy')\n",
      "size_data = fries_labels.size\n",
      "\n",
      "true_fries = fries_scores > 0.5\n",
      "\n",
      "#True(+) \n",
      "tp = float(sum(true_fries & fries_labels))\n",
      "\n",
      "#False(+) \n",
      "fp = float(sum(true_fries & -fries_labels))\n",
      "\n",
      "#False(-) \n",
      "fn = float(sum(-true_fries & fries_labels))\n",
      "\n",
      "#True(-) \n",
      "tn = float(sum(-true_fries & -fries_labels))\n",
      "\n",
      "#-----------------------------------------------------\n",
      "\n",
      "#Accuracy = Correct predictions(TP+TN)/size_data\n",
      "Accuracy = (tp+tn)/size_data\n",
      "#Error Rate = Incorrect predictions(FP+FN)/size_data\n",
      "Error_Rate = (fp+fn)/size_data\n",
      "\n",
      "#-----------------------------------------------------\n",
      "\n",
      "#True Positive Rate: TPR \n",
      "tpr = tp/(tp+fn)\n",
      "\n",
      "#True Negative Rate: TNR\n",
      "tnr = tn/(fp+tn)\n",
      "\n",
      "#Balanced Error Rate: BER\n",
      "BER = 1-0.5*(tpr + tnr)\n",
      "\n",
      "#-----------------------------------------------------\n",
      "\n",
      "Precision = tp/(tp+fp)\n",
      "Recall = tp/(tp+fn)\n",
      "\n",
      "F1 = 2*((Precision*Recall)/(Precision+Recall))\n",
      "\n",
      "#-----------------------------------------------------\n",
      "\n",
      "beta = 0.5\n",
      "\n",
      "Fbeta = (1+beta**2)*((Precision*Recall)/(beta**2*Precision+Recall))\n",
      "\n",
      "#-----------------------------------------------------\n",
      "\n",
      "print tabulate([[round(Accuracy,3),round(Error_Rate,3),round(BER,3),round(F1,3),round(Fbeta,3)]], \n",
      "                headers=['Accuracy','Error Rate','BER','F1-score','F-beta score'])\n",
      "\n",
      "#-----------------------------------------------------\n",
      "\n",
      "precision, recall, _ = precision_recall_curve(fries_labels, fries_scores)\n",
      "plt.xlabel('Recall')\n",
      "plt.ylabel('Precision')\n",
      "pl.plot(recall, precision,'b-',lw=2)\n",
      "plt.savefig(\"q8.png\")\n",
      "pl.show()"
     ],
     "language": "python",
     "metadata": {},
     "outputs": [
      {
       "output_type": "stream",
       "stream": "stdout",
       "text": [
        "  Accuracy    Error Rate    BER    F1-score    F-beta score\n",
        "----------  ------------  -----  ----------  --------------\n",
        "     0.999         0.001  0.367        0.34           0.408\n"
       ]
      },
      {
       "metadata": {},
       "output_type": "display_data",
       "png": "[encoded data removed]",
       "text": [
        "<matplotlib.figure.Figure at 0x7fe7d31f7b50>"
       ]
      }
     ],
     "prompt_number": 193
    },
    {
     "cell_type": "code",
     "collapsed": false,
     "input": [
      "print 'I think that the results are not correct because of a misinterpretation'\n",
      "print 'of the statement and of the classifier evaluation.'"
     ],
     "language": "python",
     "metadata": {},
     "outputs": [
      {
       "output_type": "stream",
       "stream": "stdout",
       "text": [
        "I think that the results are not correct because of a misinterpretation\n",
        "of the statement and of the classifier evaluation.\n"
       ]
      }
     ],
     "prompt_number": 185
    }
   ],
   "metadata": {}
  }
 ]
}